{
  "metadata": {
    "language_info": {
      "codemirror_mode": {
        "name": "python",
        "version": 3
      },
      "file_extension": ".py",
      "mimetype": "text/x-python",
      "name": "python",
      "nbconvert_exporter": "python",
      "pygments_lexer": "ipython3",
      "version": "3.8"
    },
    "kernelspec": {
      "name": "python",
      "display_name": "Pyolite",
      "language": "python"
    }
  },
  "nbformat_minor": 4,
  "nbformat": 4,
  "cells": [
    {
      "cell_type": "markdown",
      "source": "# My Jupyter Notebook on IBM Watson Studio",
      "metadata": {}
    },
    {
      "cell_type": "markdown",
      "source": "**AGUAGWA EMMANUEL UCHENNA**\n<br/>\nData Scientist\n",
      "metadata": {}
    },
    {
      "cell_type": "markdown",
      "source": "*I am interested in data science because i like problem-solving and statistical analysis. Having a background in buisness and health, i needed a field that will bring this all together and data science was just the perfect discipline*",
      "metadata": {}
    },
    {
      "cell_type": "markdown",
      "source": "***The code below is a simple arithmetic expression***",
      "metadata": {}
    },
    {
      "cell_type": "code",
      "source": "a = 1\nb = 2\nc = 3\n\nprint(a + b + c * (3**c))",
      "metadata": {
        "trusted": true
      },
      "execution_count": 7,
      "outputs": [
        {
          "name": "stdout",
          "text": "84\n",
          "output_type": "stream"
        }
      ]
    },
    {
      "cell_type": "markdown",
      "source": "| header | header | header | header | header | header |\n| ------ | ------ | ------ | ------ | ------ | ------ |\n| cell | cell | cell | cell | cell | cell |\n| cell | cell | cell | cell | cell | cell |\n| cell | cell | cell | cell | cell | cell |\n| cell | cell | cell | cell | cell | cell |",
      "metadata": {}
    },
    {
      "cell_type": "markdown",
      "source": "<a href=\"https://github.com\">GITHUB</a>",
      "metadata": {}
    },
    {
      "cell_type": "markdown",
      "source": "****The link above takes you to git hub homepage****",
      "metadata": {}
    },
    {
      "cell_type": "code",
      "source": "",
      "metadata": {},
      "execution_count": null,
      "outputs": []
    }
  ]
}